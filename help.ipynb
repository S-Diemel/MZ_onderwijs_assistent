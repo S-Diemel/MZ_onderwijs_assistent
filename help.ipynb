{
 "cells": [
  {
   "cell_type": "code",
   "id": "initial_id",
   "metadata": {
    "collapsed": true,
    "ExecuteTime": {
     "end_time": "2025-08-20T14:13:35.883616Z",
     "start_time": "2025-08-20T14:13:30.038560Z"
    }
   },
   "source": "!pip install msal\n",
   "outputs": [
    {
     "name": "stdout",
     "output_type": "stream",
     "text": [
      "Collecting msal\n",
      "  Downloading msal-1.33.0-py3-none-any.whl.metadata (11 kB)\n",
      "Requirement already satisfied: requests<3,>=2.0.0 in c:\\users\\20203666\\.conda\\envs\\testenv\\lib\\site-packages (from msal) (2.32.3)\n",
      "Requirement already satisfied: PyJWT<3,>=1.0.0 in c:\\users\\20203666\\.conda\\envs\\testenv\\lib\\site-packages (from PyJWT[crypto]<3,>=1.0.0->msal) (2.10.1)\n",
      "Requirement already satisfied: cryptography<48,>=2.5 in c:\\users\\20203666\\.conda\\envs\\testenv\\lib\\site-packages (from msal) (41.0.3)\n",
      "Requirement already satisfied: cffi>=1.12 in c:\\users\\20203666\\.conda\\envs\\testenv\\lib\\site-packages (from cryptography<48,>=2.5->msal) (1.17.1)\n",
      "Requirement already satisfied: charset-normalizer<4,>=2 in c:\\users\\20203666\\.conda\\envs\\testenv\\lib\\site-packages (from requests<3,>=2.0.0->msal) (3.3.2)\n",
      "Requirement already satisfied: idna<4,>=2.5 in c:\\users\\20203666\\.conda\\envs\\testenv\\lib\\site-packages (from requests<3,>=2.0.0->msal) (3.10)\n",
      "Requirement already satisfied: urllib3<3,>=1.21.1 in c:\\users\\20203666\\.conda\\envs\\testenv\\lib\\site-packages (from requests<3,>=2.0.0->msal) (2.3.0)\n",
      "Requirement already satisfied: certifi>=2017.4.17 in c:\\users\\20203666\\.conda\\envs\\testenv\\lib\\site-packages (from requests<3,>=2.0.0->msal) (2025.8.3)\n",
      "Requirement already satisfied: pycparser in c:\\users\\20203666\\.conda\\envs\\testenv\\lib\\site-packages (from cffi>=1.12->cryptography<48,>=2.5->msal) (2.21)\n",
      "Downloading msal-1.33.0-py3-none-any.whl (116 kB)\n",
      "Installing collected packages: msal\n",
      "Successfully installed msal-1.33.0\n"
     ]
    }
   ],
   "execution_count": 1
  }
 ],
 "metadata": {
  "kernelspec": {
   "display_name": "Python 3",
   "language": "python",
   "name": "python3"
  },
  "language_info": {
   "codemirror_mode": {
    "name": "ipython",
    "version": 2
   },
   "file_extension": ".py",
   "mimetype": "text/x-python",
   "name": "python",
   "nbconvert_exporter": "python",
   "pygments_lexer": "ipython2",
   "version": "2.7.6"
  }
 },
 "nbformat": 4,
 "nbformat_minor": 5
}
